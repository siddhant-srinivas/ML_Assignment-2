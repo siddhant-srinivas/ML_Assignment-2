{
 "cells": [
  {
   "cell_type": "markdown",
   "metadata": {},
   "source": [
    "IMPORTING ALL LIBRARIES"
   ]
  },
  {
   "cell_type": "code",
   "execution_count": null,
   "metadata": {},
   "outputs": [],
   "source": [
    "import numpy as np\n",
    "import pandas as pd\n",
    "import random\n",
    "import feature_engineering as feat\n",
    "import matplotlib.pyplot as plt\n",
    "import naive_bayes as nbe"
   ]
  },
  {
   "cell_type": "markdown",
   "metadata": {},
   "source": [
    "PART A: NAIVE BAYES CLASSIFIER:"
   ]
  },
  {
   "cell_type": "code",
   "execution_count": 2,
   "metadata": {},
   "outputs": [
    {
     "name": "stdout",
     "output_type": "stream",
     "text": [
      "Accuracy:  81.91717077710562 %\n",
      "Precision:  60.52158273381295 %\n",
      "Recall:  76.33270321361059 %\n",
      "f1 score:  67.51379367998662 %\n"
     ]
    }
   ],
   "source": [
    "data = pd.read_csv(\"adult.csv\", header=None, names=['age', 'workclass', 'fnlwgt', 'education', 'education-num',\n",
    "                                     'marital-status', 'occupation', 'relationship', 'race', 'sex',\n",
    "                                     'capital-gain', 'capital-loss', 'hours-per-week', 'native_country',\n",
    "                                     'salary'])\n",
    "data.replace(' ?', value = np.nan , inplace = True)                               \n",
    "fe = feat.FeatureEngineering(data.copy())       # getting rid of the nans\n",
    "fe.task1()\n",
    "data = fe.ds\n",
    "\n",
    "data['age'] = pd.cut(data['age'], bins=10, right=False)         # using buckets to discretize continuous data\n",
    "data['fnlwgt'] = pd.cut(data['fnlwgt'], bins=10, right=False)\n",
    "data['education-num']= pd.cut(data['education-num'], bins=10, right=False)\n",
    "data['capital-gain'] = pd.cut(data['capital-gain'], bins=10, right=False)\n",
    "data['capital-loss'] = pd.cut(data['capital-loss'], bins=10, right=False)\n",
    "data['hours-per-week'] = pd.cut(data['hours-per-week'], bins=10, right=False)\n",
    "\n"
    "seed = random.randint(1, 100)\n",
    "training = data.sample(frac=0.67, random_state = seed)\n",
    "test = data.drop(training.index)\n",
    "X_train = training.loc[:, :\"native_country\"]\n",
    "y_train = training.loc[:, \"salary\":\"salary\"]\n",
    "x_test = test.loc[:, :\"native_country\"]\n",
    "y_test = test.loc[:, \"salary\":\"salary\"]\n",
    "\n",
    "y_train = y_train.values\n",
    "y_test = y_test.values\n",
    "\n",
    "nb = nbe.NaiveBayes()\n",
    "#nb.fit(X_train, y_train, 0)"      "# Without additive smoothing\n",
    "nb.fit(X_train, y_train, 1)        # With additive smoothing\n",
    "y_pred = nb.predict(x_test)\n",
    "y_pred = nb.convert(y_pred)         # converts the label values into appropriate 0s or 1s\n",
    "y_test = nb.convert(y_test)\n",
    "acc = nb.accuracy(y_test, y_pred)\n",
    "prec = nb.precision(y_test, y_pred)\n",
    "rec = nb.recall(y_test, y_pred)\n",
    "print(\"Accuracy: \", 100 * acc, \"%\")\n",
    "print(\"Precision: \", 100 * prec, \"%\")\n",
    "print(\"Recall: \", 100 * rec, \"%\")\n",
    "f1_score = (2 *prec * rec) / (prec + rec)\n",
    "print(\"f1 score: \", 100 * f1_score, \"%\")"
   ]
  },
  {
   "cell_type": "markdown",
   "metadata": {},
   "source": [
    "Calculation of average and variance of performance metrics"
   ]
  },
  {
   "cell_type": "code",
   "execution_count": null,
   "metadata": {},
   "outputs": [],
   "source": [
    "sum_acc = 0\n",
    "sum_prec = 0\n",
    "sum_rec = 0\n",
    "sum_f1 = 0\n",
    "for i in range(15):\n",
    "\n",
    "    seed = random.randint(1, 100)\n",
    "    training = data.sample(frac=0.67, random_state = seed)\n",
    "    test = data.drop(training.index)\n",
    "    X_train = training.loc[:, :\"native_country\"]\n",
    "    y_train = training.loc[:, \"salary\":\"salary\"]\n",
    "    X_test = test.loc[:, :\"native_country\"]\n",
    "    y_test = test.loc[:, \"salary\":\"salary\"]\n",
    "\n",
    "    y_train = y_train.values\n",
    "    y_test = y_test.values\n",
    "\n",
    "    nb = nbe.NaiveBayes()\n",
    "    nb.fit(X_train, y_train, 0)\n",
    "    y_pred = nb.predict(X_test)\n",
    "    y_pred = nb.convert(y_pred)\n",
    "    y_test = nb.convert(y_test)\n",
    "    acc = nb.accuracy(y_test, y_pred)\n",
    "    sum_acc += acc\n",
    "    prec = nb.precision(y_test, y_pred)\n",
    "    sum_prec += prec\n",
    "    rec = nb.recall(y_test, y_pred)\n",
    "    sum_rec += rec\n",
    "    f1 = (2 *prec * rec) / (prec + rec)\n",
    "    sum_f1 += f1\n",
    "\n",
    "avg_acc = 100 * (sum_acc / 15)\n",
    "avg_prec = 100 * (sum_prec / 15)\n",
    "avg_rec = 100 * (sum_rec / 15)\n",
    "avg_f1 = 100 * (sum_f1 / 15)\n",
    "\n",
    "var_acc = 0\n",
    "var_prec = 0\n",
    "var_rec = 0\n",
    "var_f1 = 0\n",
    "\n",
    "for i in range(15):\n",
    "    seed = random.randint(1, 100)\n",
    "    training = data.sample(frac=0.67, random_state = seed)\n",
    "    test = data.drop(training.index)\n",
    "    X_train = training.loc[:, :\"native_country\"]\n",
    "    y_train = training.loc[:, \"salary\":\"salary\"]\n",
    "    X_test = test.loc[:, :\"native_country\"]\n",
    "    y_test = test.loc[:, \"salary\":\"salary\"]\n",
    "\n",
    "    y_train = y_train.values\n",
    "    y_test = y_test.values\n",
    "\n",
    "    nb = nbe.NaiveBayes()\n",
    "    nb.fit(X_train, y_train, 0)\n",
    "    y_pred = nb.predict(X_test)\n",
    "    y_pred = nb.convert(y_pred)\n",
    "    y_test = nb.convert(y_test)\n",
    "    acc = (nb.accuracy(y_test, y_pred))\n",
    "    var_acc += pow((acc-(avg_acc/100)),2 )\n",
    "    prec = (nb.precision(y_test, y_pred))\n",
    "    var_prec += pow((prec-(avg_prec/100)), 2)\n",
    "    rec = (nb.recall(y_test, y_pred))\n",
    "    var_rec += pow((rec-(avg_rec/100)), 2)\n",
    "    f1 = (2 *prec * rec) / (prec + rec)\n",
    "    var_f1 += pow((f1-(avg_f1/100)), 2)\n",
    "var_acc = var_acc / 14\n",
    "var_prec = var_prec / 14\n",
    "var_rec = var_rec / 14\n",
    "var_f1 = var_f1 / 14\n",
    "print(\"Average accuracy: \", avg_acc, \"%\", \"   \", \"Average Precision: \", avg_prec, \"%\", \"    \",\"Average Recall: \", avg_rec, \"%\", \"     \", \"Average f1 score: \", avg_f1, \"%\")\n",
    "print(\"Variance of accuracy: \", var_acc, \"   \", \"Variance of precision: \", var_prec, \"    \",\"Variance of Recall: \", var_rec, \"     \", \"Variance of f1 score: \", var_f1)"
   ]
  },
  {
   "cell_type": "markdown",
   "metadata": {},
   "source": [
    "Data Cleansing for Comparison with Logistic Regression and KNN"
   ]
  },
  {
   "cell_type": "code",
   "execution_count": 4,
   "metadata": {},
   "outputs": [],
   "source": [
    "from sklearn.compose import make_column_selector as selector        \n",
    "from sklearn.preprocessing import OneHotEncoder\n",
    "from sklearn.model_selection import train_test_split\n",
    "import random\n",
    "import pandas as pd\n",
    "data_lr = pd.read_csv(\"adult.csv\", header=None, names=['age', 'workclass', 'fnlwgt', 'education', 'education-num',\n",
    "                                     'marital-status', 'occupation', 'relationship', 'race', 'sex',\n",
    "                                     'capital-gain', 'capital-loss', 'hours-per-week', 'native_country',\n",
    "                                     'salary'])                              \n",
    "categorical_columns_selector = selector(dtype_include=object)\n",
    "categorical_columns = categorical_columns_selector(data_lr)\n",
    "data_categorical = data_lr[categorical_columns]\n",
    "encoder = OneHotEncoder(sparse_output= False) # OneHot encoding converts categorical data into unique arrays of float values (0s and 1s usually)\n",
    "data_encoded = encoder.fit_transform(data_categorical)\n",
    "columns_encoded = encoder.get_feature_names_out(data_categorical.columns)\n",
    "df = pd.DataFrame(data_encoded, columns=columns_encoded)\n",
    "columns = ['age', 'fnlwgt', 'education-num', 'capital-gain', 'capital-loss', 'hours-per-week']\n",
    "data_lr = pd.concat([data_lr[columns],df], axis = 1)        # merging the continuous data with the dummies to give whole dataframe\n",
    "X = data_lr.drop(['salary_ >50K'], axis = 1)\n",
    "y = data_lr['salary_ >50K']\n",
    "seed = random.randint(1, 100)\n",
    "X_train,X_test,y_train,y_test=train_test_split(X,y,test_size=0.33,random_state=seed)\n"
   ]
  },
  {
   "cell_type": "markdown",
   "metadata": {},
   "source": [
    "Logistic Regression"
   ]
  },
  {
   "cell_type": "code",
   "execution_count": 5,
   "metadata": {},
   "outputs": [
    {
     "name": "stdout",
     "output_type": "stream",
     "text": [
      "Accuracy: 79.65754699423042 %\n",
      "Precision: 71.29337539432177 %\n",
      "Recall: 26.167502894635277 %\n"
     ]
    }
   ],
   "source": [
    "from sklearn.linear_model import LogisticRegression\n",
    "from sklearn import metrics\n",
    "\n",
    "logreg = LogisticRegression(solver = 'liblinear')\n",
    "logreg.fit(X_train, y_train)\n",
    "\n",
    "y2 = logreg.predict(X_test)\n",
    "\n",
    "cnf_matrix = metrics.confusion_matrix(y_test, y2) \n",
    "print(\"Accuracy:\", 100 * metrics.accuracy_score(y_test, y2), \"%\") \n",
    "\n",
    "print(\"Precision:\", 100 * metrics.precision_score(y_test, y2), \"%\") \n",
    "\n",
    "print(\"Recall:\",100 * metrics.recall_score(y_test, y2), \"%\")"
   ]
  },
  {
   "cell_type": "markdown",
   "metadata": {},
   "source": [
    "K-Nearest Neighbours"
   ]
  },
  {
   "cell_type": "code",
   "execution_count": 3,
   "metadata": {},
   "outputs": [
    {
     "name": "stdout",
     "output_type": "stream",
     "text": [
      "Accuracy: 76.06551274892983 %\n",
      "Precision: 49.115504682622266 %\n",
      "Recall: 37.1946414499606 %\n"
     ]
    }
   ],
   "source": [
    "from sklearn import neighbors\n",
    "from sklearn import metrics\n",
    "from sklearn import preprocessing \n",
    "import random\n",
    "'''scaler = preprocessing.StandardScaler()\n",
    "x_train_scaled = scaler.fit_transform(X_train)\n",
    "X_train = pd.DataFrame(x_train_scaled)\n",
    "\n",
    "x_test_scaled = scaler.fit_transform(X_test)\n",
    "X_test = pd.DataFrame(x_test_scaled)\n",
    "\n",
    "std_scale = preprocessing.StandardScaler().fit(X_train)'''\n",
    "\n",
    "knn = neighbors.KNeighborsClassifier(n_neighbors=3)\n",
    "knn.fit(X_train, y_train)\n",
    "y3 = knn.predict(X_test)\n",
    "\n",
    "print(\"Accuracy:\", 100 * metrics.accuracy_score(y_test, y3), \"%\") \n",
    "\n",
    "print(\"Precision:\", 100 * metrics.precision_score(y_test, y3), \"%\") \n",
    "\n",
    "print(\"Recall:\",100 * metrics.recall_score(y_test, y3), \"%\")"
   ]
  }
 ],
 "metadata": {
  "kernelspec": {
   "display_name": "Python 3.8.9 64-bit",
   "language": "python",
   "name": "python3"
  },
  "language_info": {
   "codemirror_mode": {
    "name": "ipython",
    "version": 3
   },
   "file_extension": ".py",
   "mimetype": "text/x-python",
   "name": "python",
   "nbconvert_exporter": "python",
   "pygments_lexer": "ipython3",
   "version": "3.8.9"
  },
  "vscode": {
   "interpreter": {
    "hash": "31f2aee4e71d21fbe5cf8b01ff0e069b9275f58929596ceb00d14d90e3e16cd6"
   }
  }
 },
 "nbformat": 4,
 "nbformat_minor": 2
}
